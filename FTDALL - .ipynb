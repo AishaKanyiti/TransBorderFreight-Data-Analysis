{
 "cells": [
  {
   "cell_type": "markdown",
   "metadata": {},
   "source": [
    "### 🔍 Dataset Features Breakdown\n",
    "\n",
    "**1. Shipment & Trade Information**\n",
    "| Feature     | Description |\n",
    "|-------------|-------------|\n",
    "| `YEAR`      | Year of shipment |\n",
    "| `MONTH`     | Shipment month |\n",
    "| `TRDTYPE`   | Trade type: 1 = Export, 2 = Import |\n",
    "| `COMMODITY2`| 2-digit commodity classification |\n",
    "\n",
    "**2. Geographic Origins & Destinations**\n",
    "| Feature     | Description |\n",
    "|-------------|-------------|\n",
    "| `USASTATE`  | U.S. state code for shipment |\n",
    "| `MEXSTATE`  | Mexican state code (if applicable) |\n",
    "| `CANPROV`   | Canadian province code (if applicable) |\n",
    "| `COUNTRY`   | Country code (e.g., Canada = 1220, Mexico = 2010) |\n",
    "| `DEPE`      | Code for port/district where shipment is processed |\n",
    "\n",
    "**3. Transportation Logistics**\n",
    "| Feature     | Description |\n",
    "|-------------|-------------|\n",
    "| `DISAGMOT`  | Mode of transport (1 = Vessel, 3 = Air, 5 = Truck, etc.) |\n",
    "| `CONTCODE`  | Indicates if shipment is containerized (X = Yes, 0 = No) |\n",
    "\n",
    "**4. Economic & Cost Metrics**\n",
    "| Feature         | Description |\n",
    "|------------------|-------------|\n",
    "| `VALUE`          | Monetary value of shipment (USD) |\n",
    "| `SHIPWT`         | Shipping weight (Kg) |\n",
    "| `FREIGHT_CHARGES`| Freight costs (USD) |\n",
    "| `DF`             | 1 = Domestic product, 2 = Foreign product |\n",
    "\n",
    "--- "
   ]
  },
  {
   "cell_type": "code",
   "execution_count": 1,
   "metadata": {},
   "outputs": [],
   "source": [
    "import pandas as pd\n",
    "import numpy as np\n",
    "import os\n",
    "import matplotlib.pyplot as plt\n",
    "import seaborn as sns\n",
    "\n",
    "# to suppress warnings\n",
    "import warnings\n",
    "warnings.filterwarnings('ignore')"
   ]
  },
  {
   "cell_type": "code",
   "execution_count": 2,
   "metadata": {},
   "outputs": [
    {
     "name": "stdout",
     "output_type": "stream",
     "text": [
      "['cleaned_transborder_freight_data_2020.csv', 'cleaned_transborder_freight_data_2021.csv', 'cleaned_transborder_freight_data_2022.csv', 'cleaned_transborder_freight_data_2023.csv', 'cleaned_transborder_freight_data_2024.csv']\n"
     ]
    }
   ],
   "source": [
    "#checking folder content\n",
    "csv_dir = \"C:/Users/Aisha Kanyiti/Desktop/Azubi Frieght Project/ALL YEARS\"\n",
    "files = [f for f in os.listdir(csv_dir) if f.endswith(\".csv\")]\n",
    "\n",
    "print(files)\n"
   ]
  },
  {
   "cell_type": "code",
   "execution_count": 3,
   "metadata": {},
   "outputs": [],
   "source": [
    "csv_dir = \"C:/Users/Aisha Kanyiti/Desktop/Azubi Frieght Project/ALL YEARS\"\n",
    "\n",
    "# Get a list of all .csv files in the directory\n",
    "csv_files = [file for file in os.listdir(csv_dir) if file.endswith(\".csv\")]\n",
    "\n",
    "# Create an empty list to hold DataFrames\n",
    "all_dataframes = []\n",
    "\n",
    "# Loop through each CSV file and read it into a DataFrame\n",
    "for file in csv_files:\n",
    "    file_path = os.path.join(csv_dir, file)\n",
    "    \n",
    "    try:\n",
    "        df = pd.read_csv(file_path)\n",
    "        df[\"source_file\"] = file  # Add filename for tracking origin\n",
    "        all_dataframes.append(df)\n",
    "    except Exception as e:\n",
    "        print(f\"⚠️ Could not read {file}: {e}\")\n",
    "\n",
    "# Combine all DataFrames into one\n",
    "df = pd.concat(all_dataframes, ignore_index=True)\n",
    "\n"
   ]
  },
  {
   "cell_type": "code",
   "execution_count": 4,
   "metadata": {},
   "outputs": [],
   "source": [
    "df.drop(['source_file'],inplace=True,axis=1)"
   ]
  },
  {
   "cell_type": "code",
   "execution_count": 5,
   "metadata": {},
   "outputs": [
    {
     "data": {
      "text/html": [
       "<div>\n",
       "<style scoped>\n",
       "    .dataframe tbody tr th:only-of-type {\n",
       "        vertical-align: middle;\n",
       "    }\n",
       "\n",
       "    .dataframe tbody tr th {\n",
       "        vertical-align: top;\n",
       "    }\n",
       "\n",
       "    .dataframe thead th {\n",
       "        text-align: right;\n",
       "    }\n",
       "</style>\n",
       "<table border=\"1\" class=\"dataframe\">\n",
       "  <thead>\n",
       "    <tr style=\"text-align: right;\">\n",
       "      <th></th>\n",
       "      <th>TRDTYPE</th>\n",
       "      <th>USASTATE</th>\n",
       "      <th>DEPE</th>\n",
       "      <th>DISAGMOT</th>\n",
       "      <th>MEXSTATE</th>\n",
       "      <th>CANPROV</th>\n",
       "      <th>COUNTRY</th>\n",
       "      <th>VALUE</th>\n",
       "      <th>SHIPWT</th>\n",
       "      <th>FREIGHT_CHARGES</th>\n",
       "      <th>DF</th>\n",
       "      <th>CONTCODE</th>\n",
       "      <th>MONTH</th>\n",
       "      <th>YEAR</th>\n",
       "      <th>COMMODITY2</th>\n",
       "    </tr>\n",
       "  </thead>\n",
       "  <tbody>\n",
       "    <tr>\n",
       "      <th>0</th>\n",
       "      <td>Export</td>\n",
       "      <td>Alaska</td>\n",
       "      <td>07XX</td>\n",
       "      <td>Air</td>\n",
       "      <td>Province Unknown</td>\n",
       "      <td>Alberta</td>\n",
       "      <td>Canada</td>\n",
       "      <td>3302</td>\n",
       "      <td>378</td>\n",
       "      <td>125</td>\n",
       "      <td>domestically produced merchandise</td>\n",
       "      <td>Containerized</td>\n",
       "      <td>January</td>\n",
       "      <td>2020</td>\n",
       "      <td>84.0</td>\n",
       "    </tr>\n",
       "    <tr>\n",
       "      <th>1</th>\n",
       "      <td>Export</td>\n",
       "      <td>Alaska</td>\n",
       "      <td>20XX</td>\n",
       "      <td>Air</td>\n",
       "      <td>Province Unknown</td>\n",
       "      <td>Alberta</td>\n",
       "      <td>Canada</td>\n",
       "      <td>133362</td>\n",
       "      <td>137</td>\n",
       "      <td>1563</td>\n",
       "      <td>domestically produced merchandise</td>\n",
       "      <td>Containerized</td>\n",
       "      <td>January</td>\n",
       "      <td>2020</td>\n",
       "      <td>84.0</td>\n",
       "    </tr>\n",
       "    <tr>\n",
       "      <th>2</th>\n",
       "      <td>Export</td>\n",
       "      <td>Alaska</td>\n",
       "      <td>20XX</td>\n",
       "      <td>Air</td>\n",
       "      <td>Province Unknown</td>\n",
       "      <td>Alberta</td>\n",
       "      <td>Canada</td>\n",
       "      <td>49960</td>\n",
       "      <td>66</td>\n",
       "      <td>2631</td>\n",
       "      <td>foreign produced merchandise</td>\n",
       "      <td>Containerized</td>\n",
       "      <td>January</td>\n",
       "      <td>2020</td>\n",
       "      <td>84.0</td>\n",
       "    </tr>\n",
       "    <tr>\n",
       "      <th>3</th>\n",
       "      <td>Export</td>\n",
       "      <td>Alaska</td>\n",
       "      <td>20XX</td>\n",
       "      <td>Air</td>\n",
       "      <td>Province Unknown</td>\n",
       "      <td>British Columbia</td>\n",
       "      <td>Canada</td>\n",
       "      <td>21184</td>\n",
       "      <td>3418</td>\n",
       "      <td>795</td>\n",
       "      <td>domestically produced merchandise</td>\n",
       "      <td>Containerized</td>\n",
       "      <td>January</td>\n",
       "      <td>2020</td>\n",
       "      <td>84.0</td>\n",
       "    </tr>\n",
       "    <tr>\n",
       "      <th>4</th>\n",
       "      <td>Export</td>\n",
       "      <td>Alaska</td>\n",
       "      <td>20XX</td>\n",
       "      <td>Air</td>\n",
       "      <td>Province Unknown</td>\n",
       "      <td>Manitoba</td>\n",
       "      <td>Canada</td>\n",
       "      <td>4253</td>\n",
       "      <td>2</td>\n",
       "      <td>75</td>\n",
       "      <td>domestically produced merchandise</td>\n",
       "      <td>Containerized</td>\n",
       "      <td>January</td>\n",
       "      <td>2020</td>\n",
       "      <td>84.0</td>\n",
       "    </tr>\n",
       "  </tbody>\n",
       "</table>\n",
       "</div>"
      ],
      "text/plain": [
       "  TRDTYPE USASTATE  DEPE DISAGMOT          MEXSTATE           CANPROV COUNTRY  \\\n",
       "0  Export   Alaska  07XX      Air  Province Unknown           Alberta  Canada   \n",
       "1  Export   Alaska  20XX      Air  Province Unknown           Alberta  Canada   \n",
       "2  Export   Alaska  20XX      Air  Province Unknown           Alberta  Canada   \n",
       "3  Export   Alaska  20XX      Air  Province Unknown  British Columbia  Canada   \n",
       "4  Export   Alaska  20XX      Air  Province Unknown          Manitoba  Canada   \n",
       "\n",
       "    VALUE  SHIPWT  FREIGHT_CHARGES                                 DF  \\\n",
       "0    3302     378              125  domestically produced merchandise   \n",
       "1  133362     137             1563  domestically produced merchandise   \n",
       "2   49960      66             2631       foreign produced merchandise   \n",
       "3   21184    3418              795  domestically produced merchandise   \n",
       "4    4253       2               75  domestically produced merchandise   \n",
       "\n",
       "        CONTCODE    MONTH  YEAR  COMMODITY2  \n",
       "0  Containerized  January  2020        84.0  \n",
       "1  Containerized  January  2020        84.0  \n",
       "2  Containerized  January  2020        84.0  \n",
       "3  Containerized  January  2020        84.0  \n",
       "4  Containerized  January  2020        84.0  "
      ]
     },
     "execution_count": 5,
     "metadata": {},
     "output_type": "execute_result"
    }
   ],
   "source": [
    "df.head()"
   ]
  },
  {
   "cell_type": "code",
   "execution_count": 6,
   "metadata": {},
   "outputs": [
    {
     "data": {
      "text/plain": [
       "TRDTYPE            0\n",
       "USASTATE           0\n",
       "DEPE               0\n",
       "DISAGMOT           0\n",
       "MEXSTATE           0\n",
       "CANPROV            0\n",
       "COUNTRY            0\n",
       "VALUE              0\n",
       "SHIPWT             0\n",
       "FREIGHT_CHARGES    0\n",
       "DF                 0\n",
       "CONTCODE           0\n",
       "MONTH              0\n",
       "YEAR               0\n",
       "COMMODITY2         0\n",
       "dtype: int64"
      ]
     },
     "execution_count": 6,
     "metadata": {},
     "output_type": "execute_result"
    }
   ],
   "source": [
    "df.isna().sum()"
   ]
  },
  {
   "cell_type": "code",
   "execution_count": 7,
   "metadata": {},
   "outputs": [
    {
     "name": "stdout",
     "output_type": "stream",
     "text": [
      "<class 'pandas.core.frame.DataFrame'>\n",
      "RangeIndex: 6517225 entries, 0 to 6517224\n",
      "Data columns (total 15 columns):\n",
      " #   Column           Dtype  \n",
      "---  ------           -----  \n",
      " 0   TRDTYPE          object \n",
      " 1   USASTATE         object \n",
      " 2   DEPE             object \n",
      " 3   DISAGMOT         object \n",
      " 4   MEXSTATE         object \n",
      " 5   CANPROV          object \n",
      " 6   COUNTRY          object \n",
      " 7   VALUE            int64  \n",
      " 8   SHIPWT           int64  \n",
      " 9   FREIGHT_CHARGES  int64  \n",
      " 10  DF               object \n",
      " 11  CONTCODE         object \n",
      " 12  MONTH            object \n",
      " 13  YEAR             int64  \n",
      " 14  COMMODITY2       float64\n",
      "dtypes: float64(1), int64(4), object(10)\n",
      "memory usage: 745.8+ MB\n"
     ]
    }
   ],
   "source": [
    "df.info()"
   ]
  },
  {
   "cell_type": "code",
   "execution_count": 8,
   "metadata": {},
   "outputs": [
    {
     "data": {
      "text/html": [
       "<div>\n",
       "<style scoped>\n",
       "    .dataframe tbody tr th:only-of-type {\n",
       "        vertical-align: middle;\n",
       "    }\n",
       "\n",
       "    .dataframe tbody tr th {\n",
       "        vertical-align: top;\n",
       "    }\n",
       "\n",
       "    .dataframe thead th {\n",
       "        text-align: right;\n",
       "    }\n",
       "</style>\n",
       "<table border=\"1\" class=\"dataframe\">\n",
       "  <thead>\n",
       "    <tr style=\"text-align: right;\">\n",
       "      <th></th>\n",
       "      <th>VALUE</th>\n",
       "      <th>SHIPWT</th>\n",
       "      <th>FREIGHT_CHARGES</th>\n",
       "      <th>YEAR</th>\n",
       "      <th>COMMODITY2</th>\n",
       "    </tr>\n",
       "  </thead>\n",
       "  <tbody>\n",
       "    <tr>\n",
       "      <th>count</th>\n",
       "      <td>6.517225e+06</td>\n",
       "      <td>6.517225e+06</td>\n",
       "      <td>6.517225e+06</td>\n",
       "      <td>6.517225e+06</td>\n",
       "      <td>6.517225e+06</td>\n",
       "    </tr>\n",
       "    <tr>\n",
       "      <th>mean</th>\n",
       "      <td>2.945795e+06</td>\n",
       "      <td>1.200403e+06</td>\n",
       "      <td>3.851583e+04</td>\n",
       "      <td>2.022036e+03</td>\n",
       "      <td>6.309720e+01</td>\n",
       "    </tr>\n",
       "    <tr>\n",
       "      <th>std</th>\n",
       "      <td>3.786455e+07</td>\n",
       "      <td>4.073193e+07</td>\n",
       "      <td>1.024961e+06</td>\n",
       "      <td>1.323106e+00</td>\n",
       "      <td>2.694221e+01</td>\n",
       "    </tr>\n",
       "    <tr>\n",
       "      <th>min</th>\n",
       "      <td>0.000000e+00</td>\n",
       "      <td>0.000000e+00</td>\n",
       "      <td>0.000000e+00</td>\n",
       "      <td>2.020000e+03</td>\n",
       "      <td>1.000000e+00</td>\n",
       "    </tr>\n",
       "    <tr>\n",
       "      <th>25%</th>\n",
       "      <td>1.434300e+04</td>\n",
       "      <td>0.000000e+00</td>\n",
       "      <td>0.000000e+00</td>\n",
       "      <td>2.021000e+03</td>\n",
       "      <td>3.900000e+01</td>\n",
       "    </tr>\n",
       "    <tr>\n",
       "      <th>50%</th>\n",
       "      <td>7.220900e+04</td>\n",
       "      <td>0.000000e+00</td>\n",
       "      <td>2.630000e+02</td>\n",
       "      <td>2.022000e+03</td>\n",
       "      <td>7.500000e+01</td>\n",
       "    </tr>\n",
       "    <tr>\n",
       "      <th>75%</th>\n",
       "      <td>4.345660e+05</td>\n",
       "      <td>2.391000e+03</td>\n",
       "      <td>2.900000e+03</td>\n",
       "      <td>2.023000e+03</td>\n",
       "      <td>8.400000e+01</td>\n",
       "    </tr>\n",
       "    <tr>\n",
       "      <th>max</th>\n",
       "      <td>5.595625e+09</td>\n",
       "      <td>9.068700e+09</td>\n",
       "      <td>2.487214e+08</td>\n",
       "      <td>2.024000e+03</td>\n",
       "      <td>9.900000e+01</td>\n",
       "    </tr>\n",
       "  </tbody>\n",
       "</table>\n",
       "</div>"
      ],
      "text/plain": [
       "              VALUE        SHIPWT  FREIGHT_CHARGES          YEAR    COMMODITY2\n",
       "count  6.517225e+06  6.517225e+06     6.517225e+06  6.517225e+06  6.517225e+06\n",
       "mean   2.945795e+06  1.200403e+06     3.851583e+04  2.022036e+03  6.309720e+01\n",
       "std    3.786455e+07  4.073193e+07     1.024961e+06  1.323106e+00  2.694221e+01\n",
       "min    0.000000e+00  0.000000e+00     0.000000e+00  2.020000e+03  1.000000e+00\n",
       "25%    1.434300e+04  0.000000e+00     0.000000e+00  2.021000e+03  3.900000e+01\n",
       "50%    7.220900e+04  0.000000e+00     2.630000e+02  2.022000e+03  7.500000e+01\n",
       "75%    4.345660e+05  2.391000e+03     2.900000e+03  2.023000e+03  8.400000e+01\n",
       "max    5.595625e+09  9.068700e+09     2.487214e+08  2.024000e+03  9.900000e+01"
      ]
     },
     "execution_count": 8,
     "metadata": {},
     "output_type": "execute_result"
    }
   ],
   "source": [
    "df.describe()"
   ]
  },
  {
   "cell_type": "code",
   "execution_count": 9,
   "metadata": {},
   "outputs": [
    {
     "data": {
      "text/plain": [
       "np.int64(578)"
      ]
     },
     "execution_count": 9,
     "metadata": {},
     "output_type": "execute_result"
    }
   ],
   "source": [
    "df.duplicated().sum()"
   ]
  },
  {
   "cell_type": "code",
   "execution_count": 12,
   "metadata": {},
   "outputs": [],
   "source": [
    "data = df.drop_duplicates() #Dropping duplicates\n"
   ]
  },
  {
   "cell_type": "code",
   "execution_count": 13,
   "metadata": {},
   "outputs": [
    {
     "data": {
      "text/plain": [
       "np.int64(0)"
      ]
     },
     "execution_count": 13,
     "metadata": {},
     "output_type": "execute_result"
    }
   ],
   "source": [
    "data.duplicated().sum()"
   ]
  },
  {
   "cell_type": "code",
   "execution_count": 14,
   "metadata": {},
   "outputs": [
    {
     "data": {
      "text/plain": [
       "TRDTYPE            0\n",
       "USASTATE           0\n",
       "DEPE               0\n",
       "DISAGMOT           0\n",
       "MEXSTATE           0\n",
       "CANPROV            0\n",
       "COUNTRY            0\n",
       "VALUE              0\n",
       "SHIPWT             0\n",
       "FREIGHT_CHARGES    0\n",
       "DF                 0\n",
       "CONTCODE           0\n",
       "MONTH              0\n",
       "YEAR               0\n",
       "COMMODITY2         0\n",
       "dtype: int64"
      ]
     },
     "execution_count": 14,
     "metadata": {},
     "output_type": "execute_result"
    }
   ],
   "source": [
    "data.isnull().sum()"
   ]
  },
  {
   "cell_type": "code",
   "execution_count": 15,
   "metadata": {},
   "outputs": [],
   "source": [
    "# Dictionary mapping commodity 2-digit codes to descriptions\n",
    "commodity_map = {\n",
    "    1: 'Live animals', 2: 'Meat', 3: 'Fish', 4: 'Dairy, Honey, etc.',\n",
    "    5: 'Other animal products', 6: 'Live plants', 7: 'Vegetables',\n",
    "    8: 'Fruits and nuts', 9: 'Coffee, tea, spices', 10: 'Cereals',\n",
    "    11: 'Milling products', 12: 'Oil seeds', 13: 'Gums and resins',\n",
    "    14: 'Veg. plaiting', 15: 'Fats and oils', 16: 'Prepared meat/fish',\n",
    "    17: 'Sugar', 18: 'Cocoa', 19: 'Cereal preparations', 20: 'Veg./fruit preparations',\n",
    "    21: 'Misc. edible', 22: 'Beverages', 23: 'Food waste/feed', 24: 'Tobacco',\n",
    "    25: 'Salt/stone/cement', 26: 'Ores', 27: 'Mineral fuels', 28: 'Inorganic chemicals',\n",
    "    29: 'Organic chemicals', 30: 'Pharma products', 31: 'Fertilizers',\n",
    "    32: 'Dyes & paints', 33: 'Essential oils & cosmetics', 34: 'Soaps & waxes',\n",
    "    35: 'Starches, glues, enzymes', 36: 'Explosives & matches', 37: 'Photographic goods',\n",
    "    38: 'Misc chemicals', 39: 'Plastics', 40: 'Rubber', 41: 'Raw hides & leather',\n",
    "    42: 'Leather articles', 43: 'Furskins', 44: 'Wood', 45: 'Cork', 46: 'Basketware',\n",
    "    47: 'Pulp & scrap paper', 48: 'Paper articles', 49: 'Books & printed goods',\n",
    "    50: 'Silk', 51: 'Wool', 52: 'Cotton', 53: 'Other textiles', 54: 'Man-made filaments',\n",
    "    55: 'Man-made fibers', 56: 'Ropes & twine', 57: 'Carpets', 58: 'Special woven fabrics',\n",
    "    59: 'Industrial textiles', 60: 'Knitted fabrics', 61: 'Knit apparel', 62: 'Woven apparel',\n",
    "    63: 'Other textile articles', 64: 'Footwear', 65: 'Headgear', 66: 'Umbrellas & sticks',\n",
    "    67: 'Feathers & artificial flowers', 68: 'Stone & cement articles', 69: 'Ceramics',\n",
    "    70: 'Glassware', 71: 'Jewelry & coins', 72: 'Iron & steel', 73: 'Iron/steel articles',\n",
    "    74: 'Copper', 75: 'Nickel', 76: 'Aluminum', 77: 'Reserved', 78: 'Lead',\n",
    "    79: 'Zinc', 80: 'Tin', 81: 'Other base metals', 82: 'Tools & cutlery',\n",
    "    83: 'Misc base metal', 84: 'Machinery', 85: 'Electrical machinery', 86: 'Railway equipment',\n",
    "    87: 'Vehicles', 88: 'Aircraft', 89: 'Ships', 90: 'Instruments', 91: 'Watches',\n",
    "    92: 'Musical instruments', 93: 'Arms & ammo', 94: 'Furniture & prefab', 95: 'Toys & sports',\n",
    "    96: 'Misc manufactured', 97: 'Art & antiques', 98: 'Special classification', 99: 'Temporary (imports only)'\n",
    "}\n",
    "\n",
    "\n",
    "# Apply the mapping to the 'Commodity' column\n",
    "# Convert COMMODITY2 to integer before mapping\n",
    "data['COMMODITY2'] = data['COMMODITY2'].astype('Int64').map(commodity_map)"
   ]
  },
  {
   "cell_type": "code",
   "execution_count": 16,
   "metadata": {},
   "outputs": [
    {
     "data": {
      "text/html": [
       "<div>\n",
       "<style scoped>\n",
       "    .dataframe tbody tr th:only-of-type {\n",
       "        vertical-align: middle;\n",
       "    }\n",
       "\n",
       "    .dataframe tbody tr th {\n",
       "        vertical-align: top;\n",
       "    }\n",
       "\n",
       "    .dataframe thead th {\n",
       "        text-align: right;\n",
       "    }\n",
       "</style>\n",
       "<table border=\"1\" class=\"dataframe\">\n",
       "  <thead>\n",
       "    <tr style=\"text-align: right;\">\n",
       "      <th></th>\n",
       "      <th>TRDTYPE</th>\n",
       "      <th>USASTATE</th>\n",
       "      <th>DEPE</th>\n",
       "      <th>DISAGMOT</th>\n",
       "      <th>MEXSTATE</th>\n",
       "      <th>CANPROV</th>\n",
       "      <th>COUNTRY</th>\n",
       "      <th>VALUE</th>\n",
       "      <th>SHIPWT</th>\n",
       "      <th>FREIGHT_CHARGES</th>\n",
       "      <th>DF</th>\n",
       "      <th>CONTCODE</th>\n",
       "      <th>MONTH</th>\n",
       "      <th>YEAR</th>\n",
       "      <th>COMMODITY2</th>\n",
       "    </tr>\n",
       "  </thead>\n",
       "  <tbody>\n",
       "    <tr>\n",
       "      <th>0</th>\n",
       "      <td>Export</td>\n",
       "      <td>Alaska</td>\n",
       "      <td>07XX</td>\n",
       "      <td>Air</td>\n",
       "      <td>Province Unknown</td>\n",
       "      <td>Alberta</td>\n",
       "      <td>Canada</td>\n",
       "      <td>3302</td>\n",
       "      <td>378</td>\n",
       "      <td>125</td>\n",
       "      <td>domestically produced merchandise</td>\n",
       "      <td>Containerized</td>\n",
       "      <td>January</td>\n",
       "      <td>2020</td>\n",
       "      <td>Machinery</td>\n",
       "    </tr>\n",
       "    <tr>\n",
       "      <th>1</th>\n",
       "      <td>Export</td>\n",
       "      <td>Alaska</td>\n",
       "      <td>20XX</td>\n",
       "      <td>Air</td>\n",
       "      <td>Province Unknown</td>\n",
       "      <td>Alberta</td>\n",
       "      <td>Canada</td>\n",
       "      <td>133362</td>\n",
       "      <td>137</td>\n",
       "      <td>1563</td>\n",
       "      <td>domestically produced merchandise</td>\n",
       "      <td>Containerized</td>\n",
       "      <td>January</td>\n",
       "      <td>2020</td>\n",
       "      <td>Machinery</td>\n",
       "    </tr>\n",
       "    <tr>\n",
       "      <th>2</th>\n",
       "      <td>Export</td>\n",
       "      <td>Alaska</td>\n",
       "      <td>20XX</td>\n",
       "      <td>Air</td>\n",
       "      <td>Province Unknown</td>\n",
       "      <td>Alberta</td>\n",
       "      <td>Canada</td>\n",
       "      <td>49960</td>\n",
       "      <td>66</td>\n",
       "      <td>2631</td>\n",
       "      <td>foreign produced merchandise</td>\n",
       "      <td>Containerized</td>\n",
       "      <td>January</td>\n",
       "      <td>2020</td>\n",
       "      <td>Machinery</td>\n",
       "    </tr>\n",
       "    <tr>\n",
       "      <th>3</th>\n",
       "      <td>Export</td>\n",
       "      <td>Alaska</td>\n",
       "      <td>20XX</td>\n",
       "      <td>Air</td>\n",
       "      <td>Province Unknown</td>\n",
       "      <td>British Columbia</td>\n",
       "      <td>Canada</td>\n",
       "      <td>21184</td>\n",
       "      <td>3418</td>\n",
       "      <td>795</td>\n",
       "      <td>domestically produced merchandise</td>\n",
       "      <td>Containerized</td>\n",
       "      <td>January</td>\n",
       "      <td>2020</td>\n",
       "      <td>Machinery</td>\n",
       "    </tr>\n",
       "    <tr>\n",
       "      <th>4</th>\n",
       "      <td>Export</td>\n",
       "      <td>Alaska</td>\n",
       "      <td>20XX</td>\n",
       "      <td>Air</td>\n",
       "      <td>Province Unknown</td>\n",
       "      <td>Manitoba</td>\n",
       "      <td>Canada</td>\n",
       "      <td>4253</td>\n",
       "      <td>2</td>\n",
       "      <td>75</td>\n",
       "      <td>domestically produced merchandise</td>\n",
       "      <td>Containerized</td>\n",
       "      <td>January</td>\n",
       "      <td>2020</td>\n",
       "      <td>Machinery</td>\n",
       "    </tr>\n",
       "  </tbody>\n",
       "</table>\n",
       "</div>"
      ],
      "text/plain": [
       "  TRDTYPE USASTATE  DEPE DISAGMOT          MEXSTATE           CANPROV COUNTRY  \\\n",
       "0  Export   Alaska  07XX      Air  Province Unknown           Alberta  Canada   \n",
       "1  Export   Alaska  20XX      Air  Province Unknown           Alberta  Canada   \n",
       "2  Export   Alaska  20XX      Air  Province Unknown           Alberta  Canada   \n",
       "3  Export   Alaska  20XX      Air  Province Unknown  British Columbia  Canada   \n",
       "4  Export   Alaska  20XX      Air  Province Unknown          Manitoba  Canada   \n",
       "\n",
       "    VALUE  SHIPWT  FREIGHT_CHARGES                                 DF  \\\n",
       "0    3302     378              125  domestically produced merchandise   \n",
       "1  133362     137             1563  domestically produced merchandise   \n",
       "2   49960      66             2631       foreign produced merchandise   \n",
       "3   21184    3418              795  domestically produced merchandise   \n",
       "4    4253       2               75  domestically produced merchandise   \n",
       "\n",
       "        CONTCODE    MONTH  YEAR COMMODITY2  \n",
       "0  Containerized  January  2020  Machinery  \n",
       "1  Containerized  January  2020  Machinery  \n",
       "2  Containerized  January  2020  Machinery  \n",
       "3  Containerized  January  2020  Machinery  \n",
       "4  Containerized  January  2020  Machinery  "
      ]
     },
     "execution_count": 16,
     "metadata": {},
     "output_type": "execute_result"
    }
   ],
   "source": [
    "data.head()"
   ]
  },
  {
   "cell_type": "markdown",
   "metadata": {},
   "source": [
    "# EDA"
   ]
  },
  {
   "cell_type": "code",
   "execution_count": 19,
   "metadata": {},
   "outputs": [
    {
     "data": {
      "image/png": "[encoded data removed]",
      "text/plain": [
       "<Figure size 600x400 with 1 Axes>"
      ]
     },
     "metadata": {},
     "output_type": "display_data"
    }
   ],
   "source": [
    "\n",
    "# comparing export and import \n",
    "import_export = data.groupby(\"TRDTYPE\")[\"VALUE\"].sum()\n",
    "import_export_T = import_export / 1_000_000_000_000\n",
    "\n",
    "fig, ax = plt.subplots(figsize=(6,4))\n",
    "bars = ax.bar(import_export_T.index, import_export_T.values, color=['#1f77b4', '#ff7f0e'])\n",
    "\n",
    "ax.set_title(\"Total Freight Value: Imports vs Exports\")\n",
    "ax.set_ylabel(\"Total Value (Trillions)\")\n",
    "ax.set_yticklabels([])\n",
    "\n",
    "for i, v in enumerate(import_export_T.values):\n",
    "    ax.text(i, v, f\"{v:.2f}T\", ha='center', va='bottom', fontsize=9)\n",
    "\n",
    "plt.tight_layout()\n",
    "plt.show()\n"
   ]
  },
  {
   "cell_type": "markdown",
   "metadata": {},
   "source": [
    "### INSIGHTS\n",
    "\n",
    "\n",
    " Overview: The chart compares the total freight value of imports and exports between the USA, Canada, and Mexico over the analyzed period.\n",
    "\n",
    "Key Insight: Imports dominate trade value (10.87T) compared to exports (8.33T).\n",
    "\n",
    "Context: The majority of imports are from Canada and Mexico, while exports mainly originate from the USA.\n",
    "\n",
    "Implication: This highlights the USA’s role as a major exporter, while Canada and Mexico contribute heavily to imports, emphasizing the need for efficient cross-border trade infrastructure and policies."
   ]
  },
  {
   "cell_type": "code",
   "execution_count": 20,
   "metadata": {},
   "outputs": [
    {
     "data": {
      "image/png": "[encoded data removed]",
      "text/plain": [
       "<Figure size 800x500 with 1 Axes>"
      ]
     },
     "metadata": {},
     "output_type": "display_data"
    }
   ],
   "source": [
    "# Aggregate data\n",
    "freight_by_year = data.groupby(\"YEAR\")[\"VALUE\"].sum()\n",
    "\n",
    "# Plot\n",
    "ax = freight_by_year.plot(kind=\"bar\", figsize=(8,5), title=\"Total Freight Value by Year\")\n",
    "\n",
    "# Y-axis label\n",
    "ax.set_ylabel(\"Total Value\")\n",
    "\n",
    "# Remove y-axis tick labels\n",
    "ax.set_yticklabels([])\n",
    "\n",
    "# Add data labels with T, B, or M\n",
    "for i, v in enumerate(freight_by_year):\n",
    "    if v >= 1_000_000_000_000:\n",
    "        label = f\"{v/1_000_000_000_000:.2f}T\"\n",
    "    elif v >= 1_000_000_000:\n",
    "        label = f\"{v/1_000_000_000:.2f}B\"\n",
    "    else:\n",
    "        label = f\"{v/1_000_000:.2f}M\"\n",
    "    ax.text(i, v, label, ha='center', va='bottom', fontsize=9, rotation=0)\n",
    "\n",
    "plt.tight_layout()\n",
    "plt.show()\n",
    "\n",
    "\n",
    "\n"
   ]
  },
  {
   "cell_type": "markdown",
   "metadata": {},
   "source": [
    "### INSIGHTS\n",
    "\n",
    "\n",
    "Trend Overview: Total freight value grew steadily from 2020 (2.31T) to a peak in 2022 and 2023 (4.72T), followed by a decline in 2024 (3.48T).\n",
    "\n",
    "Growth Phase: The largest increase occurred between 2020 and 2022, showing strong trade growth.\n",
    "\n",
    "Peak & Decline: Trade value remained at its highest in 2022–2023 before slightly dropping in 2024.\n",
    "\n",
    "KEY NOTES: The chart highlights a period of rapid trade expansion until 2022, with a stagnation and dip after 2023, possibly due to economic or policy-related factors."
   ]
  },
  {
   "cell_type": "code",
   "execution_count": 21,
   "metadata": {},
   "outputs": [
    {
     "data": {
      "image/png": "[encoded data removed]",
      "text/plain": [
       "<Figure size 1000x600 with 1 Axes>"
      ]
     },
     "metadata": {},
     "output_type": "display_data"
    }
   ],
   "source": [
    "# Aggregate: total weight by mode & year\n",
    "freight_by_mode_year = (\n",
    "    data.groupby([\"YEAR\", \"DISAGMOT\"])[\"SHIPWT\"]\n",
    "    .sum()\n",
    "    .reset_index()\n",
    ")\n",
    "\n",
    "# Convert to millions of tons\n",
    "freight_by_mode_year[\"SHIPWT_Millions\"] = freight_by_mode_year[\"SHIPWT\"] / 1_000_000\n",
    "\n",
    "# Pivot for plotting\n",
    "pivot_df = freight_by_mode_year.pivot(index=\"DISAGMOT\", columns=\"YEAR\", values=\"SHIPWT_Millions\")\n",
    "\n",
    "# Plot\n",
    "fig, ax = plt.subplots(figsize=(10,6))\n",
    "\n",
    "# Use seaborn color palette\n",
    "colors = sns.color_palette(\"tab10\", n_colors=len(pivot_df.columns))\n",
    "\n",
    "# Plot each year as a separate bar (grouped)\n",
    "bars = pivot_df.plot(\n",
    "    kind=\"barh\", \n",
    "    ax=ax,\n",
    "    color=colors,\n",
    "    width=0.7\n",
    ")\n",
    "\n",
    "# Title and labels\n",
    "ax.set_xlabel(\"Total Weight\")\n",
    "ax.set_title(\"Total Freight Weight by Mode and Year\")\n",
    "ax.legend(title=\"Year\")\n",
    "\n",
    "# Remove X-axis tick labels but keep axis label\n",
    "ax.set_xticklabels([])\n",
    "\n",
    "# Add data labels with M, B, T formatting\n",
    "for container in ax.containers:\n",
    "    for bar in container:\n",
    "        width = bar.get_width()\n",
    "        if width > 0:\n",
    "            if width >= 1_000_000:\n",
    "                label = f\"{width/1_000_000:.2f}T\"\n",
    "            elif width >= 1_000:\n",
    "                label = f\"{width/1_000:.2f}B\"\n",
    "            else:\n",
    "                label = f\"{width:.2f}M\"\n",
    "            ax.text(width, bar.get_y() + bar.get_height()/2, label, \n",
    "                    ha='left', va='center', fontsize=8)\n",
    "\n",
    "plt.tight_layout()\n",
    "plt.show()\n",
    "\n",
    "\n",
    "\n"
   ]
  },
  {
   "cell_type": "markdown",
   "metadata": {},
   "source": [
    "### INSIGHTS\n",
    "\n",
    "\n",
    "Dominant Modes: Vessel and Pipeline carry the largest freight weight, mainly for bulk goods like oil, gas, or raw materials. Truck and Rail also contribute significantly, with trucks handling diverse, short-haul goods and rail handling heavy, long-distance freight.\n",
    "\n",
    "Trends (2020–2024): Vessel, Pipeline, Truck, and Rail show steady growth from 2020 to 2023, peaking in 2023, followed by a slight dip in 2024.\n",
    "\n",
    "Minor Modes: Air freight, Foreign Trade Zones (FTZs), Mail, and Other modes represent small shares, with air used for high-value, time-sensitive goods.\n",
    "\n",
    "KEY NOTES: The chart highlights the critical roles of Vessel, Pipeline, Truck, and Rail, while showing that minor modes serve specialized purposes in cross-border freight transport."
   ]
  },
  {
   "cell_type": "code",
   "execution_count": 24,
   "metadata": {},
   "outputs": [],
   "source": [
    "# Create a new DataFrame with the cleaned data\n",
    "dataset = data.copy()"
   ]
  },
  {
   "cell_type": "code",
   "execution_count": null,
   "metadata": {},
   "outputs": [],
   "source": [
    "#Convert file to Cleaded to CSV format\n",
    "dataset.to_csv('cleaned_transborder_freight_data_FULL.csv', index=False)"
   ]
  },
  {
   "cell_type": "code",
   "execution_count": 22,
   "metadata": {},
   "outputs": [
    {
     "name": "stdout",
     "output_type": "stream",
     "text": [
      "📆 Unique years in the dataset:\n",
      "[2020 2021 2022 2023 2024]\n",
      "\n",
      "📊 Row count per year:\n",
      "YEAR\n",
      "2020    1015331\n",
      "2021    1437866\n",
      "2022    1471673\n",
      "2023    1483319\n",
      "2024    1108458\n",
      "Name: count, dtype: int64\n"
     ]
    }
   ],
   "source": [
    "print(\"📆 Unique years in the dataset:\")\n",
    "print(data['YEAR'].unique())\n",
    "\n",
    "# Show count of rows per year\n",
    "print(\"\\n📊 Row count per year:\")\n",
    "print(data['YEAR'].value_counts().sort_index())"
   ]
  },
  {
   "cell_type": "code",
   "execution_count": null,
   "metadata": {},
   "outputs": [],
   "source": [
    "# pip install ydata-profiling"
   ]
  },
  {
   "cell_type": "code",
   "execution_count": null,
   "metadata": {},
   "outputs": [],
   "source": [
    "# from ydata_profiling import ProfileReport\n",
    "\n",
    "# Create the profile report\n",
    "# profile = ProfileReport(data, title=\"TransBorderFreight Data Profiling Report\", explorative=True)\n",
    "\n",
    "# Save it to an HTML file\n",
    "# profile.to_file(\"freight_data_report.html\")\n"
   ]
  },
  {
   "cell_type": "code",
   "execution_count": 2,
   "metadata": {},
   "outputs": [
    {
     "ename": "NameError",
     "evalue": "name 'data' is not defined",
     "output_type": "error",
     "traceback": [
      "\u001b[31m---------------------------------------------------------------------------\u001b[39m",
      "\u001b[31mNameError\u001b[39m                                 Traceback (most recent call last)",
      "\u001b[36mCell\u001b[39m\u001b[36m \u001b[39m\u001b[32mIn[2]\u001b[39m\u001b[32m, line 2\u001b[39m\n\u001b[32m      1\u001b[39m \u001b[38;5;66;03m# Group by YEAR and sum VALUE\u001b[39;00m\n\u001b[32m----> \u001b[39m\u001b[32m2\u001b[39m yearly_value = \u001b[43mdata\u001b[49m.groupby(\u001b[33m\"\u001b[39m\u001b[33mYEAR\u001b[39m\u001b[33m\"\u001b[39m)[\u001b[33m\"\u001b[39m\u001b[33mVALUE\u001b[39m\u001b[33m\"\u001b[39m].sum()\n\u001b[32m      4\u001b[39m \u001b[38;5;28mprint\u001b[39m(yearly_value)\n",
      "\u001b[31mNameError\u001b[39m: name 'data' is not defined"
     ]
    }
   ],
   "source": [
    "# Group by YEAR and sum VALUE\n",
    "yearly_value = data.groupby(\"YEAR\")[\"VALUE\"].sum()\n",
    "\n",
    "print(yearly_value)"
   ]
  },
  {
   "cell_type": "code",
   "execution_count": null,
   "metadata": {},
   "outputs": [],
   "source": []
  },
  {
   "cell_type": "code",
   "execution_count": null,
   "metadata": {},
   "outputs": [],
   "source": []
  }
 ],
 "metadata": {
  "kernelspec": {
   "display_name": "Python 3 (ipykernel)",
   "language": "python",
   "name": "python3"
  },
  "language_info": {
   "codemirror_mode": {
    "name": "ipython",
    "version": 3
   },
   "file_extension": ".py",
   "mimetype": "text/x-python",
   "name": "python",
   "nbconvert_exporter": "python",
   "pygments_lexer": "ipython3",
   "version": "3.13.5"
  }
 },
 "nbformat": 4,
 "nbformat_minor": 4
}
